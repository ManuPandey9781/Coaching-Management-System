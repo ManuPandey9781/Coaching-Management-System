{
 "cells": [
  {
   "cell_type": "markdown",
   "id": "7901f58d",
   "metadata": {},
   "source": [
    "# COACHING MANAGEMENT SYSTEM"
   ]
  },
  {
   "cell_type": "code",
   "execution_count": 1,
   "id": "9b15ca51",
   "metadata": {},
   "outputs": [
    {
     "name": "stdout",
     "output_type": "stream",
     "text": [
      "Requirement already satisfied: mysql.connector in c:\\users\\lenovo\\anaconda3\\lib\\site-packages (2.2.9)\n",
      "Note: you may need to restart the kernel to use updated packages.\n"
     ]
    }
   ],
   "source": [
    "pip install mysql.connector"
   ]
  },
  {
   "cell_type": "code",
   "execution_count": 2,
   "id": "fd0e1bdf",
   "metadata": {},
   "outputs": [],
   "source": [
    "import mysql.connector as connector"
   ]
  },
  {
   "cell_type": "code",
   "execution_count": 3,
   "id": "bee7c8c7",
   "metadata": {},
   "outputs": [],
   "source": [
    "import warnings\n",
    "warnings.filterwarnings('ignore')"
   ]
  },
  {
   "cell_type": "code",
   "execution_count": 4,
   "id": "09bc5a6b",
   "metadata": {},
   "outputs": [],
   "source": [
    "con=connector.connect(host=\"localhost\",user=\"root\",password='Manu@9781',auth_plugin='mysql_native_password')\n",
    "mycursor=con.cursor()\n",
    "mycursor.execute(\"create database if not exists tution\")\n",
    "mycursor.execute(\"use tution\")\n",
    "mycursor.execute(\"create table if not exists stud_rec(sid int primary key,Name varchar(20) not null,fee int, DOJ date) \")\n",
    "con.commit()"
   ]
  },
  {
   "cell_type": "code",
   "execution_count": null,
   "id": "cd9e08c1",
   "metadata": {},
   "outputs": [
    {
     "name": "stdout",
     "output_type": "stream",
     "text": [
      "||------------------------------------------------------------------------||\n",
      "||                  ...................................                   ||\n",
      "||                       Coching Management System                        ||\n",
      "||                  ...................................                   ||\n",
      "||------------------------------------------------------------------------||\n",
      "----------------------------------------------------------------------\n",
      "Select the choice:-\n",
      "1. Add Student:-\n",
      "2. Search Student Record:- \n",
      "3. Display All student Record:- \n",
      "4. Update Record of student:- \n",
      "5. Delete Record of student:- \n",
      "6. Exit:\n",
      "----------------------------------------------------------------------\n"
     ]
    }
   ],
   "source": [
    "def add():\n",
    "    sid=int(input(\"Enter the Student Id:- \"))\n",
    "    Name=input(\"Enter the student Name:- \")\n",
    "    fee=int(input(\"Enter the Amount fees: \"))\n",
    "    DOJ= input(\"Enter the Date of Joining:- \")\n",
    "    mycursor.execute(\"insert into stud_rec(sid,Name,fee,DOJ)values('%d','%s','%d','%s')\"%(sid,Name,fee,DOJ))\n",
    "    con.commit()\n",
    "    print(\" \\n ................student record save successfully...................\\n\")\n",
    "    \n",
    "def search():\n",
    "    print(\"\\n-----------------Search for student data-------------------\\n\")\n",
    "    sid=input(\"Enter the Student Id:-\")\n",
    "    mycursor.execute(\"select* from stud_rec where sid=\"+sid)\n",
    "    for i in mycursor:\n",
    "        sid,Name,fee,DOJ=i\n",
    "        print(\"sid \\t Name \\t Fees \\t Date of Joining\")\n",
    "        print(sid,'\\t',Name,'\\t',fee,'\\t',DOJ)\n",
    "    con.commit()\n",
    "    print(\"\\n********* Record you have searched is shown above*************\\n\")\n",
    "    \n",
    "def display():\n",
    "    print(\"||-----------------------------------------------------------||\")\n",
    "    print(\"||---------------------Data of all students------------------||\")\n",
    "    print(\"||-----------------------------------------------------------||\")\n",
    "    mycursor.execute(\"select * from stud_rec\")\n",
    "    u=mycursor.fetchall()\n",
    "    con.commit()\n",
    "    w=(['sid','Name','fee',\"DOJ\"])\n",
    "    for sid,Name,fee,DOJ in u:\n",
    "        print(sid,\":\",\"\\t\",Name,\"-\",\"\\t\",fee,\"\\t\",DOJ)\n",
    "    con.commit()\n",
    "    \n",
    "def update():\n",
    "    sid=input(\"Enter the SId of the student whose fee you want to update=\")\n",
    "    new_fees=input(\"New Fees:-\")\n",
    "    mycursor=con.cursor()\n",
    "    a=\"update stud_rec set fee={} where sid={}\".format(new_fees,sid)\n",
    "    mycursor.execute(a)\n",
    "    mycursor.execute(\"select* from stud_rec where sid=\"+sid)\n",
    "    print(\"\\n----------------------------------------------------------------\\n\")\n",
    "    for i in mycursor:\n",
    "        sid,Name,fee,DOJ=i\n",
    "        print(\"Sno \\t Name \\tFees \\tDate of Joining\")\n",
    "        print(sid,\"\\t\",Name,\"\\t\",fee,\"\\t\",DOJ)\n",
    "    con.commit()\n",
    "    print(\"\\n******************** Record Updated*****************************\\n\")\n",
    "    \n",
    "    \n",
    "def delete():\n",
    "    sid=input(\"Enter the SId that you want to delete:\")\n",
    "    b=\"delete from stud_rec where sid={}\".format(sid)\n",
    "    mycursor.execute(b)\n",
    "    print(\"\\n||****************** Record Deleted Successfully******************||\\n\")\n",
    "    con.commit()\n",
    "    \n",
    "    \n",
    "print(\"||------------------------------------------------------------------------||\")\n",
    "print(\"||                  ...................................                   ||\")\n",
    "print(\"||                       Coching Management System                        ||\")\n",
    "print(\"||                  ...................................                   ||\")\n",
    "print(\"||------------------------------------------------------------------------||\")\n",
    "\n",
    "\n",
    "\n",
    "\n",
    "\n",
    "\n",
    "while True:\n",
    "    print(\"----------------------------------------------------------------------\")\n",
    "    print(\"Select the choice:-\")\n",
    "    print(\"1. Add Student:-\")\n",
    "    print(\"2. Search Student Record:- \")\n",
    "    print(\"3. Display All student Record:- \")\n",
    "    print(\"4. Update Record of student:- \")\n",
    "    print(\"5. Delete Record of student:- \")\n",
    "    print(\"6. Exit:\")\n",
    "    print(\"----------------------------------------------------------------------\")\n",
    "    \n",
    "    ch=int(input(\" \\n Enter the choice:-  \\n\"))\n",
    "    if ch==1:\n",
    "        add()\n",
    "    elif ch==2:\n",
    "        search()\n",
    "    elif ch==3:\n",
    "        display()\n",
    "    elif ch==4:\n",
    "        update()\n",
    "    elif ch==5:\n",
    "        delete()\n",
    "    elif ch==6:\n",
    "        break\n",
    "    else:\n",
    "        print(\"!!!!!!!!!!!* Select correct option *!!!!!!!!!!!!!!!!!\")\n",
    "con.close()        \n",
    "            \n",
    "        "
   ]
  },
  {
   "cell_type": "code",
   "execution_count": null,
   "id": "c0ea3a52",
   "metadata": {},
   "outputs": [],
   "source": []
  },
  {
   "cell_type": "code",
   "execution_count": null,
   "id": "f5af7875",
   "metadata": {},
   "outputs": [],
   "source": []
  }
 ],
 "metadata": {
  "kernelspec": {
   "display_name": "Python 3 (ipykernel)",
   "language": "python",
   "name": "python3"
  },
  "language_info": {
   "codemirror_mode": {
    "name": "ipython",
    "version": 3
   },
   "file_extension": ".py",
   "mimetype": "text/x-python",
   "name": "python",
   "nbconvert_exporter": "python",
   "pygments_lexer": "ipython3",
   "version": "3.9.13"
  }
 },
 "nbformat": 4,
 "nbformat_minor": 5
}
